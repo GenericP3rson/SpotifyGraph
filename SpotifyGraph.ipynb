{
  "nbformat": 4,
  "nbformat_minor": 2,
  "metadata": {
    "colab": {
      "name": "TigerGraph, Spotify, and Kaggle",
      "provenance": [],
      "collapsed_sections": []
    },
    "kernelspec": {
      "name": "python3",
      "display_name": "Python 3"
    },
    "language_info": {
      "name": "python"
    }
  },
  "cells": [
    {
      "cell_type": "markdown",
      "source": [
        "# TigerGraph, Spotify, and Kaggle"
      ],
      "metadata": {
        "id": "ueOxoo2wjCTo"
      }
    },
    {
      "cell_type": "markdown",
      "source": [
        "## Create your TigerGraph Graph"
      ],
      "metadata": {
        "id": "U4WA5gxw37V7"
      }
    },
    {
      "cell_type": "markdown",
      "source": [
        "### Set Up Your TigerGraph Box"
      ],
      "metadata": {
        "id": "8i5Lo2ySDxqK"
      }
    },
    {
      "cell_type": "markdown",
      "source": [
        "To get started with this lab, the first thing you must have is a TigerGraph instance that you can store all your data. Don't worry it's much easier than your thinking. The next few steps will walk you through the process. \n",
        "\n",
        "#### 1.1 Create an Account\n",
        "> <font color='red'>If you have already created an account simply sign in and skip the create account step.</font>\n",
        "\n",
        "![pokemon](https://media.discordapp.net/attachments/691840155325038592/852883641919078420/Screen_Shot_2021-06-11_at_07.14.58.png?width=2053&height=1170)\n",
        "\n",
        "* Click on this link to go to TigerGraph's Cloud [https://tgcloud.io](https://tgcloud.io). You will be prompted with a \"Login\" button. Click the botton. \n",
        "* Next you will see a top tab where you can choose \"Sign Up\". Click that tab.\n",
        "* Finally you should see an option to create an account using your Google Account, LinkedIn Account, or manually create an account. Choose the option you perfer. \n",
        "\n",
        "#### 1.2 Create a TigerGraph Instance\n",
        "![pokemon](https://media.discordapp.net/attachments/691840155325038592/852883957757902868/Screen_Shot_2021-06-11_at_07.16.16.png?width=2059&height=1170)\n",
        "* After creating an account and getting into your portal you should see some options on the left side. One of those options is \"My Soultions\". Click \"My Solutions\"\n",
        "* On the top right corner of your screen you will see \"Create Solution\" Click the \"Creat Solutions button.\n",
        "\n",
        "> <font color='red'>There are four steps we will be going through to create the box</font>\n",
        "\n",
        "##### 1.2.1 Basic Settings\n",
        "![pokemon](https://media.discordapp.net/attachments/691840155325038592/852884039673184367/Screen_Shot_2021-06-11_at_07.16.36.png?width=2057&height=1170)\n",
        "  * Select TigerGraph Version: `3.0.5`\n",
        "  * Select a Starter Kit: `Blank v3`\n",
        "  * Click `\"Next\"` at the bottom\n",
        "\n",
        "##### 1.2.2 Instance Settings\n",
        "![pokemon](https://media.discordapp.net/attachments/691840155325038592/852884107163074610/Screen_Shot_2021-06-11_at_07.16.53.png?width=2057&height=1171)\n",
        "* Select a Platform: `AWS`\n",
        "* Select an Instance Type: `TG.FREE`\n",
        "* Select Region: `(any - choose the closest to you)`\n",
        "* Disk Size: `50GB`\n",
        "* Partition Factor: `1`\n",
        "* Replication Factor: `1`\n",
        "* Click `\"Next\"` at the bottom\n",
        "\n",
        "##### 1.2.3 Solution Settings\n",
        "![pokemon](https://media.discordapp.net/attachments/691840155325038592/852884296662253578/Screen_Shot_2021-06-11_at_07.17.36.png?width=2057&height=1171)\n",
        "* Name your Solution: `(any - choose a name you would like)`\n",
        "* Tag your Solution: `(any - choose a tag you would like)`\n",
        "* Set the Initial Password: `tigergraph`\n",
        "* Subdomain: `(any - choose a name you would like)`\n",
        "* Description: `(any - choose a description you would like)`\n",
        "* Click `\"Next\"` at the bottom\n",
        "\n",
        "##### 1.2.4 Confirmation\n",
        "![pokemon](https://media.discordapp.net/attachments/691840155325038592/852884435194871869/Screen_Shot_2021-06-11_at_07.18.11.png?width=2057&height=1170)\n",
        "* Make sure everything looks good\n",
        "* Click `\"Submit\"` if things look good.\n",
        "\n",
        "#### 1.3 CONGRATULATIONS!\n",
        "![pokemon](https://media.discordapp.net/attachments/691840155325038592/852887268577771550/Screen_Shot_2021-06-11_at_07.29.21.png?width=2057&height=1171)\n",
        "Let's take a look at your new box. It might take ~3-5 minutes for the box to be ready. You can see the box being provisioned if you head back to \"My Solutions\" tab.\n",
        "\n",
        "#### 1.3.1 Open Graph Studio\n",
        "![pokemon](https://media.discordapp.net/attachments/691840155325038592/852887353777061898/Screen_Shot_2021-06-11_at_07.29.47.png?width=2053&height=1170)\n",
        "Once the box is showing a <font color='green'>green</font> dot, you can click on the first icon next to that dot called \"Applications\". From the list choose \"GraphStudio\". This is the Graphical User Interface that communicates with your graph. \n",
        "\n",
        "![pokemon](https://media.discordapp.net/attachments/691840155325038592/852887447061790720/Screen_Shot_2021-06-11_at_07.30.08.png?width=2057&height=1170)\n",
        "\n",
        "<font color='red'> Let's move on to building the graph database using your Google Colab Notebook along with some Python tools. </font>"
      ],
      "metadata": {
        "id": "8oUillJjUqrq"
      }
    },
    {
      "cell_type": "markdown",
      "source": [
        "### Connect to TigerGraph"
      ],
      "metadata": {
        "id": "9w0WWeqH5WQH"
      }
    },
    {
      "cell_type": "code",
      "execution_count": null,
      "source": [
        "!pip install pyTigerGraph"
      ],
      "outputs": [
        {
          "output_type": "stream",
          "name": "stdout",
          "text": [
            "Collecting pyTigerGraph\n",
            "  Downloading pyTigerGraph-0.0.9.6.9-py3-none-any.whl (22 kB)\n",
            "Requirement already satisfied: requests in /usr/local/lib/python3.7/dist-packages (from pyTigerGraph) (2.23.0)\n",
            "Collecting pyTigerDriver==1.0.13\n",
            "  Downloading pyTigerDriver-1.0.13-py3-none-any.whl (9.7 kB)\n",
            "Collecting validators\n",
            "  Downloading validators-0.18.2-py3-none-any.whl (19 kB)\n",
            "Requirement already satisfied: pandas in /usr/local/lib/python3.7/dist-packages (from pyTigerGraph) (1.1.5)\n",
            "Requirement already satisfied: numpy>=1.15.4 in /usr/local/lib/python3.7/dist-packages (from pandas->pyTigerGraph) (1.19.5)\n",
            "Requirement already satisfied: pytz>=2017.2 in /usr/local/lib/python3.7/dist-packages (from pandas->pyTigerGraph) (2018.9)\n",
            "Requirement already satisfied: python-dateutil>=2.7.3 in /usr/local/lib/python3.7/dist-packages (from pandas->pyTigerGraph) (2.8.1)\n",
            "Requirement already satisfied: six>=1.5 in /usr/local/lib/python3.7/dist-packages (from python-dateutil>=2.7.3->pandas->pyTigerGraph) (1.15.0)\n",
            "Requirement already satisfied: chardet<4,>=3.0.2 in /usr/local/lib/python3.7/dist-packages (from requests->pyTigerGraph) (3.0.4)\n",
            "Requirement already satisfied: certifi>=2017.4.17 in /usr/local/lib/python3.7/dist-packages (from requests->pyTigerGraph) (2021.5.30)\n",
            "Requirement already satisfied: idna<3,>=2.5 in /usr/local/lib/python3.7/dist-packages (from requests->pyTigerGraph) (2.10)\n",
            "Requirement already satisfied: urllib3!=1.25.0,!=1.25.1,<1.26,>=1.21.1 in /usr/local/lib/python3.7/dist-packages (from requests->pyTigerGraph) (1.24.3)\n",
            "Requirement already satisfied: decorator>=3.4.0 in /usr/local/lib/python3.7/dist-packages (from validators->pyTigerGraph) (4.4.2)\n",
            "Installing collected packages: validators, pyTigerDriver, pyTigerGraph\n",
            "Successfully installed pyTigerDriver-1.0.13 pyTigerGraph-0.0.9.6.9 validators-0.18.2\n"
          ]
        }
      ],
      "metadata": {
        "colab": {
          "base_uri": "https://localhost:8080/"
        },
        "id": "UeLxK_VM4Jgw",
        "outputId": "1a6b83c8-a33f-4932-be9c-1831322dfb0e"
      }
    },
    {
      "cell_type": "code",
      "execution_count": null,
      "source": [
        "import pyTigerGraph as tg \n",
        "\n",
        "conn = tg.TigerGraphConnection(host=\"https://spotifygraph.i.tgcloud.io/\", password=\"tigergraph\")"
      ],
      "outputs": [],
      "metadata": {
        "id": "iRh-lmAw4K_Y"
      }
    },
    {
      "cell_type": "code",
      "execution_count": null,
      "source": [
        "# NOTE: ONLY UNCOMMENT FOR EMERGENCIES!! IT WILL DELETE EVERYTHING FROM YOUR GRAPH!\n",
        "\n",
        "# print(conn.gsql('''DROP ALL'''))"
      ],
      "outputs": [],
      "metadata": {
        "id": "KstPlN7F4pPx"
      }
    },
    {
      "cell_type": "markdown",
      "source": [
        "### Schema"
      ],
      "metadata": {
        "id": "ImGxNQEGU2Ap"
      }
    },
    {
      "cell_type": "code",
      "execution_count": null,
      "source": [
        "print(conn.gsql('''\n",
        "CREATE VERTEX Genre(PRIMARY_ID name STRING) WITH PRIMARY_ID_AS_ATTRIBUTE=\"true\"\n",
        "CREATE VERTEX Song(PRIMARY_ID id STRING, name STRING, popularity INT, danceability DOUBLE, energy_level DOUBLE, energy DOUBLE, key_id INT, loudness DOUBLE, mode INT, speechiness DOUBLE, acousticness DOUBLE, instrumentalness DOUBLE, liveness DOUBLE, valence DOUBLE, tempo DOUBLE, uri STRING, track_href STRING, analysis_url STRING, duration_ms INT, time_signature INT) WITH PRIMARY_ID_AS_ATTRIBUTE=\"true\"\n",
        "CREATE VERTEX Playlist(PRIMARY_ID name STRING) WITH PRIMARY_ID_AS_ATTRIBUTE=\"true\"\n",
        "CREATE VERTEX Artist(PRIMARY_ID name STRING) WITH PRIMARY_ID_AS_ATTRIBUTE=\"true\"\n",
        "\n",
        "CREATE UNDIRECTED EDGE SONG_ARTIST(FROM Song, TO Artist)\n",
        "CREATE UNDIRECTED EDGE SONG_PLAYLIST(FROM Song, TO Playlist)\n",
        "CREATE UNDIRECTED EDGE SONG_GENRE(FROM Song, TO Genre)\n",
        "'''))"
      ],
      "outputs": [
        {
          "output_type": "stream",
          "name": "stdout",
          "text": [
            "The vertex type Genre is created.\n",
            "The vertex type Song is created.\n",
            "The vertex type Playlist is created.\n",
            "The vertex type Artist is created.\n",
            "The edge type SONG_ARTIST is created.\n",
            "The edge type SONG_PLAYLIST is created.\n",
            "The edge type SONG_GENRE is created.\n"
          ]
        }
      ],
      "metadata": {
        "id": "Y14ssA-l4RhB",
        "colab": {
          "base_uri": "https://localhost:8080/"
        },
        "outputId": "c6eeea78-10ce-4107-bf2b-b19390520b13"
      }
    },
    {
      "cell_type": "code",
      "execution_count": null,
      "source": [
        "print(conn.gsql('''\n",
        "CREATE GRAPH SpotifyGraph(\n",
        "  Genre, Song, Playlist, Artist,\n",
        "  SONG_ARTIST, SONG_PLAYLIST, SONG_GENRE\n",
        ")\n",
        "'''))"
      ],
      "outputs": [
        {
          "output_type": "stream",
          "name": "stdout",
          "text": [
            "Stopping GPE GSE RESTPP\n",
            "Successfully stopped GPE GSE RESTPP in 13.531 seconds\n",
            "Starting GPE GSE RESTPP\n",
            "Successfully started GPE GSE RESTPP in 0.205 seconds\n",
            "The graph SpotifyGraph is created.\n"
          ]
        }
      ],
      "metadata": {
        "id": "9Q5qSJK44mQd",
        "colab": {
          "base_uri": "https://localhost:8080/"
        },
        "outputId": "6b53d36d-5866-417a-a817-ed911622cfcd"
      }
    },
    {
      "cell_type": "code",
      "execution_count": null,
      "source": [
        "conn.graphname = \"SpotifyGraph\"\n",
        "conn.apiToken = conn.getToken(conn.createSecret())"
      ],
      "outputs": [],
      "metadata": {
        "id": "mkhKYWAE5Kt1"
      }
    },
    {
      "cell_type": "markdown",
      "source": [
        "## Load Data"
      ],
      "metadata": {
        "id": "Vx_bRjctU5Z-"
      }
    },
    {
      "cell_type": "markdown",
      "source": [
        "### Grab Kaggle Data\n",
        "\n",
        "\n",
        "\n"
      ],
      "metadata": {
        "id": "jrmSG_bxD6qZ"
      }
    },
    {
      "cell_type": "code",
      "execution_count": null,
      "source": [
        "! pip install -q kaggle"
      ],
      "outputs": [],
      "metadata": {
        "id": "A7NDlz_aEQkC"
      }
    },
    {
      "cell_type": "markdown",
      "source": [
        "Go to your Settings, click Account, scroll down to API. \n",
        "\n",
        "**Press \"Expire\" then \"Create New Token\". It will download a kaggle.json; upload it to the selector below.**\n",
        "\n"
      ],
      "metadata": {
        "id": "ybcgIivqKI1V"
      }
    },
    {
      "cell_type": "code",
      "execution_count": null,
      "source": [
        "from google.colab import files\n",
        "\n",
        "files.upload()"
      ],
      "outputs": [
        {
          "output_type": "display_data",
          "data": {
            "text/html": [
              "\n",
              "     <input type=\"file\" id=\"files-e14c31c5-1d36-4e1f-847f-b597e6167681\" name=\"files[]\" multiple disabled\n",
              "        style=\"border:none\" />\n",
              "     <output id=\"result-e14c31c5-1d36-4e1f-847f-b597e6167681\">\n",
              "      Upload widget is only available when the cell has been executed in the\n",
              "      current browser session. Please rerun this cell to enable.\n",
              "      </output>\n",
              "      <script src=\"/nbextensions/google.colab/files.js\"></script> "
            ],
            "text/plain": [
              "<IPython.core.display.HTML object>"
            ]
          },
          "metadata": {
            "tags": []
          }
        },
        {
          "output_type": "stream",
          "name": "stdout",
          "text": [
            "Saving kaggle.json to kaggle.json\n"
          ]
        },
        {
          "output_type": "execute_result",
          "data": {
            "text/plain": [
              "{'kaggle.json': b'{\"username\":\"genericp3rson\",\"key\":\"09840daac3167ba452c3ee593e757cfd\"}'}"
            ]
          },
          "metadata": {
            "tags": []
          },
          "execution_count": 7
        }
      ],
      "metadata": {
        "id": "Yu3-UPcuEQkD",
        "colab": {
          "resources": {
            "http://localhost:8080/nbextensions/google.colab/files.js": {
              "data": "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",
              "ok": true,
              "headers": [
                [
                  "content-type",
                  "application/javascript"
                ]
              ],
              "status": 200,
              "status_text": ""
            }
          },
          "base_uri": "https://localhost:8080/",
          "height": 89
        },
        "outputId": "83e01cb4-4e58-415b-b333-5922979c13c8"
      }
    },
    {
      "cell_type": "code",
      "execution_count": null,
      "source": [
        "! mkdir ~/.kaggle\n",
        "\n",
        "! cp kaggle.json ~/.kaggle/\n",
        "\n",
        "! chmod 600 ~/.kaggle/kaggle.json\n",
        "\n",
        "! kaggle datasets list"
      ],
      "outputs": [
        {
          "output_type": "stream",
          "name": "stdout",
          "text": [
            "Warning: Looks like you're using an outdated API Version, please consider updating (server 1.5.12 / client 1.5.4)\n",
            "ref                                                         title                                              size  lastUpdated          downloadCount  \n",
            "----------------------------------------------------------  ------------------------------------------------  -----  -------------------  -------------  \n",
            "gpreda/reddit-vaccine-myths                                 Reddit Vaccine Myths                              234KB  2021-07-23 06:49:54           9668  \n",
            "crowww/a-large-scale-fish-dataset                           A Large Scale Fish Dataset                          3GB  2021-04-28 17:03:01           5908  \n",
            "imsparsh/musicnet-dataset                                   MusicNet Dataset                                   22GB  2021-02-18 14:12:19           2192  \n",
            "dhruvildave/wikibooks-dataset                               Wikibooks Dataset                                   2GB  2021-07-03 18:37:20           2470  \n",
            "promptcloud/careerbuilder-job-listing-2020                  Careerbuilder Job Listing 2020                     42MB  2021-03-05 06:59:52           1418  \n",
            "fatiimaezzahra/famous-iconic-women                          Famous Iconic Women                               838MB  2021-02-28 14:56:00            993  \n",
            "nickuzmenkov/nih-chest-xrays-tfrecords                      NIH Chest X-rays TFRecords                         11GB  2021-03-09 04:49:23            808  \n",
            "alsgroup/end-als                                            End ALS Kaggle Challenge                           12GB  2021-04-08 12:16:37            799  \n",
            "coloradokb/dandelionimages                                  DandelionImages                                     4GB  2021-02-19 20:03:47            693  \n",
            "mathurinache/twitter-edge-nodes                             Twitter Edge Nodes                                342MB  2021-03-08 06:43:04            654  \n",
            "simiotic/github-code-snippets                               GitHub Code Snippets                                7GB  2021-03-03 11:34:39            233  \n",
            "mathurinache/the-lj-speech-dataset                          The LJ Speech Dataset                               3GB  2021-02-15 09:19:54            247  \n",
            "stuartjames/lights                                          LightS: Light Specularity Dataset                  18GB  2021-02-18 14:32:26             95  \n",
            "landrykezebou/lvzhdr-tone-mapping-benchmark-dataset-tmonet  LVZ-HDR Tone Mapping Benchmark Dataset (TMO-Net)   24GB  2021-03-01 05:03:40            162  \n",
            "nickuzmenkov/ranzcr-clip-kfold-tfrecords                    RANZCR CLiP KFold TFRecords                         2GB  2021-02-21 13:29:51            106  \n",
            "imsparsh/accentdb-core-extended                             AccentDB - Core & Extended                          6GB  2021-02-17 14:22:54             96  \n",
            "datasnaek/youtube-new                                       Trending YouTube Video Statistics                 201MB  2019-06-03 00:56:47         145133  \n",
            "zynicide/wine-reviews                                       Wine Reviews                                       51MB  2017-11-27 17:08:04         140655  \n",
            "residentmario/ramen-ratings                                 Ramen Ratings                                      40KB  2018-01-11 16:04:39          25128  \n",
            "datasnaek/chess                                             Chess Game Dataset (Lichess)                        3MB  2017-09-04 03:09:09          20119  \n"
          ]
        }
      ],
      "metadata": {
        "id": "OAJMQLapEQkD",
        "colab": {
          "base_uri": "https://localhost:8080/"
        },
        "outputId": "18ed0623-42f9-4ead-f019-d94d5f3b703b"
      }
    },
    {
      "cell_type": "code",
      "execution_count": null,
      "source": [
        "! kaggle datasets download -d siropo/spotify-multigenre-playlists-data\n",
        "! unzip spotify-multigenre-playlists-data.zip -d train\n",
        "! ls train"
      ],
      "outputs": [
        {
          "output_type": "stream",
          "name": "stdout",
          "text": [
            "Downloading spotify-multigenre-playlists-data.zip to /content\n",
            "\r  0% 0.00/2.66M [00:00<?, ?B/s]\n",
            "\r100% 2.66M/2.66M [00:00<00:00, 71.9MB/s]\n",
            "Archive:  spotify-multigenre-playlists-data.zip\n",
            "  inflating: train/alternative_music_data.csv  \n",
            "  inflating: train/blues_music_data.csv  \n",
            "  inflating: train/hiphop_music_data.csv  \n",
            "  inflating: train/indie_alt_music_data.csv  \n",
            "  inflating: train/metal_music_data.csv  \n",
            "  inflating: train/pop_music_data.csv  \n",
            "  inflating: train/rock_music_data.csv  \n",
            "alternative_music_data.csv  indie_alt_music_data.csv  rock_music_data.csv\n",
            "blues_music_data.csv\t    metal_music_data.csv\n",
            "hiphop_music_data.csv\t    pop_music_data.csv\n"
          ]
        }
      ],
      "metadata": {
        "id": "f2bZnXbaEV_A",
        "colab": {
          "base_uri": "https://localhost:8080/"
        },
        "outputId": "168ce8fd-ef86-4f70-8847-b1a7ae26decd"
      }
    },
    {
      "cell_type": "markdown",
      "source": [
        "### Upsert Data"
      ],
      "metadata": {
        "id": "EbxCDKQ55aE-"
      }
    },
    {
      "cell_type": "code",
      "execution_count": null,
      "source": [
        "import pandas as pd \n",
        "\n",
        "alternative = pd.read_csv(\"train/alternative_music_data.csv\")\n",
        "indie_alt = pd.read_csv(\"train/indie_alt_music_data.csv\")\n",
        "rock = pd.read_csv(\"train/rock_music_data.csv\")\n",
        "blues = pd.read_csv(\"train/blues_music_data.csv\")\n",
        "metal = pd.read_csv(\"train/metal_music_data.csv\")\n",
        "hiphop = pd.read_csv(\"train/hiphop_music_data.csv\")\n",
        "pop = pd.read_csv(\"train/pop_music_data.csv\")"
      ],
      "outputs": [],
      "metadata": {
        "id": "k-3eGH295gnY"
      }
    },
    {
      "cell_type": "code",
      "execution_count": null,
      "source": [
        "alternative.head()"
      ],
      "outputs": [
        {
          "output_type": "execute_result",
          "data": {
            "text/html": [
              "<div>\n",
              "<style scoped>\n",
              "    .dataframe tbody tr th:only-of-type {\n",
              "        vertical-align: middle;\n",
              "    }\n",
              "\n",
              "    .dataframe tbody tr th {\n",
              "        vertical-align: top;\n",
              "    }\n",
              "\n",
              "    .dataframe thead th {\n",
              "        text-align: right;\n",
              "    }\n",
              "</style>\n",
              "<table border=\"1\" class=\"dataframe\">\n",
              "  <thead>\n",
              "    <tr style=\"text-align: right;\">\n",
              "      <th></th>\n",
              "      <th>Artist Name</th>\n",
              "      <th>Track Name</th>\n",
              "      <th>Popularity</th>\n",
              "      <th>Genres</th>\n",
              "      <th>Playlist</th>\n",
              "      <th>danceability</th>\n",
              "      <th>energy</th>\n",
              "      <th>key</th>\n",
              "      <th>loudness</th>\n",
              "      <th>mode</th>\n",
              "      <th>speechiness</th>\n",
              "      <th>acousticness</th>\n",
              "      <th>instrumentalness</th>\n",
              "      <th>liveness</th>\n",
              "      <th>valence</th>\n",
              "      <th>tempo</th>\n",
              "      <th>id</th>\n",
              "      <th>uri</th>\n",
              "      <th>track_href</th>\n",
              "      <th>analysis_url</th>\n",
              "      <th>duration_ms</th>\n",
              "      <th>time_signature</th>\n",
              "    </tr>\n",
              "  </thead>\n",
              "  <tbody>\n",
              "    <tr>\n",
              "      <th>0</th>\n",
              "      <td>James</td>\n",
              "      <td>Laid</td>\n",
              "      <td>66</td>\n",
              "      <td>['britpop', 'madchester', 'new wave', 'new wav...</td>\n",
              "      <td>Alternative 90s</td>\n",
              "      <td>0.457</td>\n",
              "      <td>0.909</td>\n",
              "      <td>0</td>\n",
              "      <td>-9.451</td>\n",
              "      <td>1</td>\n",
              "      <td>0.0317</td>\n",
              "      <td>0.001600</td>\n",
              "      <td>0.000276</td>\n",
              "      <td>0.1350</td>\n",
              "      <td>0.755</td>\n",
              "      <td>115.998</td>\n",
              "      <td>2CdS3DRqWR5LAhy4hM5X9W</td>\n",
              "      <td>spotify:track:2CdS3DRqWR5LAhy4hM5X9W</td>\n",
              "      <td>https://api.spotify.com/v1/tracks/2CdS3DRqWR5L...</td>\n",
              "      <td>https://api.spotify.com/v1/audio-analysis/2CdS...</td>\n",
              "      <td>156667</td>\n",
              "      <td>4</td>\n",
              "    </tr>\n",
              "    <tr>\n",
              "      <th>1</th>\n",
              "      <td>grandson</td>\n",
              "      <td>In Over My Head</td>\n",
              "      <td>60</td>\n",
              "      <td>['modern alternative rock', 'modern rock', 'ro...</td>\n",
              "      <td>Alternative Beats</td>\n",
              "      <td>0.582</td>\n",
              "      <td>0.817</td>\n",
              "      <td>0</td>\n",
              "      <td>-6.475</td>\n",
              "      <td>1</td>\n",
              "      <td>0.0399</td>\n",
              "      <td>0.001700</td>\n",
              "      <td>0.015800</td>\n",
              "      <td>0.5750</td>\n",
              "      <td>0.622</td>\n",
              "      <td>155.124</td>\n",
              "      <td>3r0mb1tzAcCNoA8YRXuIhZ</td>\n",
              "      <td>spotify:track:3r0mb1tzAcCNoA8YRXuIhZ</td>\n",
              "      <td>https://api.spotify.com/v1/tracks/3r0mb1tzAcCN...</td>\n",
              "      <td>https://api.spotify.com/v1/audio-analysis/3r0m...</td>\n",
              "      <td>198366</td>\n",
              "      <td>4</td>\n",
              "    </tr>\n",
              "    <tr>\n",
              "      <th>2</th>\n",
              "      <td>Foals</td>\n",
              "      <td>On The Luna</td>\n",
              "      <td>51</td>\n",
              "      <td>['alternative dance', 'indie rock', 'modern al...</td>\n",
              "      <td>Alternative 10s</td>\n",
              "      <td>0.525</td>\n",
              "      <td>0.976</td>\n",
              "      <td>0</td>\n",
              "      <td>-2.023</td>\n",
              "      <td>1</td>\n",
              "      <td>0.0479</td>\n",
              "      <td>0.066200</td>\n",
              "      <td>0.000392</td>\n",
              "      <td>0.0804</td>\n",
              "      <td>0.855</td>\n",
              "      <td>138.984</td>\n",
              "      <td>0Sfj5fPqZzCq9o3f1NNphz</td>\n",
              "      <td>spotify:track:0Sfj5fPqZzCq9o3f1NNphz</td>\n",
              "      <td>https://api.spotify.com/v1/tracks/0Sfj5fPqZzCq...</td>\n",
              "      <td>https://api.spotify.com/v1/audio-analysis/0Sfj...</td>\n",
              "      <td>192695</td>\n",
              "      <td>4</td>\n",
              "    </tr>\n",
              "    <tr>\n",
              "      <th>3</th>\n",
              "      <td>Longpigs</td>\n",
              "      <td>She Said</td>\n",
              "      <td>47</td>\n",
              "      <td>['britpop', 'sheffield indie']</td>\n",
              "      <td>Alternative 90s</td>\n",
              "      <td>0.210</td>\n",
              "      <td>0.870</td>\n",
              "      <td>5</td>\n",
              "      <td>-5.985</td>\n",
              "      <td>1</td>\n",
              "      <td>0.0606</td>\n",
              "      <td>0.000147</td>\n",
              "      <td>0.000488</td>\n",
              "      <td>0.1880</td>\n",
              "      <td>0.517</td>\n",
              "      <td>168.352</td>\n",
              "      <td>5J7l2wE9wxqod7xIP0jyAB</td>\n",
              "      <td>spotify:track:5J7l2wE9wxqod7xIP0jyAB</td>\n",
              "      <td>https://api.spotify.com/v1/tracks/5J7l2wE9wxqo...</td>\n",
              "      <td>https://api.spotify.com/v1/audio-analysis/5J7l...</td>\n",
              "      <td>264067</td>\n",
              "      <td>4</td>\n",
              "    </tr>\n",
              "    <tr>\n",
              "      <th>4</th>\n",
              "      <td>Beastie Boys</td>\n",
              "      <td>Sure Shot</td>\n",
              "      <td>57</td>\n",
              "      <td>['alternative rock', 'east coast hip hop', 'go...</td>\n",
              "      <td>Alternative 90s</td>\n",
              "      <td>0.692</td>\n",
              "      <td>0.799</td>\n",
              "      <td>1</td>\n",
              "      <td>-7.924</td>\n",
              "      <td>1</td>\n",
              "      <td>0.1640</td>\n",
              "      <td>0.388000</td>\n",
              "      <td>0.000000</td>\n",
              "      <td>0.3010</td>\n",
              "      <td>0.549</td>\n",
              "      <td>97.978</td>\n",
              "      <td>21REQ1bCUWphT2QK3bLWYQ</td>\n",
              "      <td>spotify:track:21REQ1bCUWphT2QK3bLWYQ</td>\n",
              "      <td>https://api.spotify.com/v1/tracks/21REQ1bCUWph...</td>\n",
              "      <td>https://api.spotify.com/v1/audio-analysis/21RE...</td>\n",
              "      <td>199667</td>\n",
              "      <td>4</td>\n",
              "    </tr>\n",
              "  </tbody>\n",
              "</table>\n",
              "</div>"
            ],
            "text/plain": [
              "    Artist Name       Track Name  ...  duration_ms time_signature\n",
              "0         James             Laid  ...       156667              4\n",
              "1      grandson  In Over My Head  ...       198366              4\n",
              "2         Foals      On The Luna  ...       192695              4\n",
              "3      Longpigs         She Said  ...       264067              4\n",
              "4  Beastie Boys        Sure Shot  ...       199667              4\n",
              "\n",
              "[5 rows x 22 columns]"
            ]
          },
          "metadata": {
            "tags": []
          },
          "execution_count": 11
        }
      ],
      "metadata": {
        "id": "scUptxf4kyfB",
        "colab": {
          "base_uri": "https://localhost:8080/"
        },
        "outputId": "0442f3b7-b86e-4e93-9376-8fb2e021f08a"
      }
    },
    {
      "cell_type": "code",
      "execution_count": null,
      "source": [
        "conn.upsertVertex(\"Genre\", \"Alternative\", attributes={\"name\": \"Alternative\"})\n",
        "conn.upsertVertex(\"Genre\", \"Indie Alt\", attributes={\"name\": \"Indie Alt\"})\n",
        "conn.upsertVertex(\"Genre\", \"Rock\", attributes={\"name\": \"Rock\"})\n",
        "conn.upsertVertex(\"Genre\", \"Blues\", attributes={\"name\": \"Blues\"})\n",
        "conn.upsertVertex(\"Genre\", \"Metal\", attributes={\"name\": \"Metal\"})\n",
        "conn.upsertVertex(\"Genre\", \"HipHop\", attributes={\"name\": \"HipHop\"})\n",
        "conn.upsertVertex(\"Genre\", \"Pop\", attributes={\"name\": \"Pop\"})"
      ],
      "outputs": [
        {
          "output_type": "execute_result",
          "data": {
            "text/plain": [
              "1"
            ]
          },
          "metadata": {
            "tags": []
          },
          "execution_count": 12
        }
      ],
      "metadata": {
        "id": "HuwzV1gTIIKL",
        "colab": {
          "base_uri": "https://localhost:8080/"
        },
        "outputId": "5de622a1-b1b9-4d25-dfb8-b5431288cbaf"
      }
    },
    {
      "cell_type": "code",
      "execution_count": null,
      "source": [
        "alternative[\"Genre\"] = [\"Alternative\" for i in alternative[\"Track Name\"]]\n",
        "indie_alt[\"Genre\"] = [\"Indie Alt\" for i in indie_alt[\"Track Name\"]]\n",
        "rock[\"Genre\"] = [\"Rock\" for i in rock[\"Track Name\"]]\n",
        "blues[\"Genre\"] = [\"Blues\" for i in blues[\"Track Name\"]]\n",
        "metal[\"Genre\"] = [\"Metal\" for i in metal[\"Track Name\"]]\n",
        "hiphop[\"Genre\"] = [\"HipHop\" for i in hiphop[\"Track Name\"]]\n",
        "pop[\"Genre\"] = [\"Pop\" for i in pop[\"Track Name\"]]"
      ],
      "outputs": [],
      "metadata": {
        "id": "HiAH5j5XQmKm"
      }
    },
    {
      "cell_type": "code",
      "execution_count": null,
      "source": [
        "conn.upsertVertexDataFrame(alternative, \"Playlist\", \"Playlist\", attributes={\"name\": \"Playlist\"})\n",
        "conn.upsertVertexDataFrame(indie_alt, \"Playlist\", \"Playlist\", attributes={\"name\": \"Playlist\"})\n",
        "conn.upsertVertexDataFrame(rock, \"Playlist\", \"Playlist\", attributes={\"name\": \"Playlist\"})\n",
        "conn.upsertVertexDataFrame(blues, \"Playlist\", \"Playlist\", attributes={\"name\": \"Playlist\"})\n",
        "conn.upsertVertexDataFrame(metal, \"Playlist\", \"Playlist\", attributes={\"name\": \"Playlist\"})\n",
        "conn.upsertVertexDataFrame(hiphop, \"Playlist\", \"Playlist\", attributes={\"name\": \"Playlist\"})\n",
        "conn.upsertVertexDataFrame(pop, \"Playlist\", \"Playlist\", attributes={\"name\": \"Playlist\"})\n",
        "\n",
        "conn.upsertVertexDataFrame(alternative, \"Artist\", \"Artist Name\", attributes={\"name\": \"Artist Name\"})\n",
        "conn.upsertVertexDataFrame(indie_alt, \"Artist\", \"Artist Name\", attributes={\"name\": \"Artist Name\"})\n",
        "conn.upsertVertexDataFrame(rock, \"Artist\", \"Artist Name\", attributes={\"name\": \"Artist Name\"})\n",
        "conn.upsertVertexDataFrame(blues, \"Artist\", \"Artist Name\", attributes={\"name\": \"Artist Name\"})\n",
        "conn.upsertVertexDataFrame(metal, \"Artist\", \"Artist Name\", attributes={\"name\": \"Artist Name\"})\n",
        "conn.upsertVertexDataFrame(hiphop, \"Artist\", \"Artist Name\", attributes={\"name\": \"Artist Name\"})\n",
        "conn.upsertVertexDataFrame(pop, \"Artist\", \"Artist Name\", attributes={\"name\": \"Artist Name\"})\n",
        "\n",
        "conn.upsertVertexDataFrame(alternative, \"Song\", \"id\", attributes={\"id\": \"id\", \"name\": \"Track Name\", \"popularity\": \"Popularity\", \"danceability\": \"danceability\", \"energy\": \"energy\", \"key_id\": \"key\", \"loudness\": \"loudness\", \"mode\": \"mode\", \"speechiness\": \"speechiness\", \"acousticness\": \"acousticness\", \"instrumentalness\": \"instrumentalness\", \"liveness\": \"liveness\", \"valence\": \"valence\", \"tempo\": \"tempo\", \"uri\": \"uri\", \"track_href\": \"track_href\", \"analysis_url\": \"analysis_url\", \"duration_ms\": \"duration_ms\", \"time_signature\": \"time_signature\"})\n",
        "conn.upsertVertexDataFrame(indie_alt, \"Song\", \"id\", attributes={\"id\": \"id\", \"name\": \"Track Name\", \"popularity\": \"Popularity\", \"danceability\": \"danceability\", \"energy\": \"energy\", \"key_id\": \"key\", \"loudness\": \"loudness\", \"mode\": \"mode\", \"speechiness\": \"speechiness\", \"acousticness\": \"acousticness\", \"instrumentalness\": \"instrumentalness\", \"liveness\": \"liveness\", \"valence\": \"valence\", \"tempo\": \"tempo\", \"uri\": \"uri\", \"track_href\": \"track_href\", \"analysis_url\": \"analysis_url\", \"duration_ms\": \"duration_ms\", \"time_signature\": \"time_signature\"})\n",
        "conn.upsertVertexDataFrame(rock, \"Song\", \"id\", attributes={\"id\": \"id\", \"name\": \"Track Name\", \"popularity\": \"Popularity\", \"danceability\": \"danceability\", \"energy\": \"energy\", \"key_id\": \"key\", \"loudness\": \"loudness\", \"mode\": \"mode\", \"speechiness\": \"speechiness\", \"acousticness\": \"acousticness\", \"instrumentalness\": \"instrumentalness\", \"liveness\": \"liveness\", \"valence\": \"valence\", \"tempo\": \"tempo\", \"uri\": \"uri\", \"track_href\": \"track_href\", \"analysis_url\": \"analysis_url\", \"duration_ms\": \"duration_ms\", \"time_signature\": \"time_signature\"})\n",
        "conn.upsertVertexDataFrame(blues, \"Song\", \"id\", attributes={\"id\": \"id\", \"name\": \"Track Name\", \"popularity\": \"Popularity\", \"danceability\": \"danceability\", \"energy\": \"energy\", \"key_id\": \"key\", \"loudness\": \"loudness\", \"mode\": \"mode\", \"speechiness\": \"speechiness\", \"acousticness\": \"acousticness\", \"instrumentalness\": \"instrumentalness\", \"liveness\": \"liveness\", \"valence\": \"valence\", \"tempo\": \"tempo\", \"uri\": \"uri\", \"track_href\": \"track_href\", \"analysis_url\": \"analysis_url\", \"duration_ms\": \"duration_ms\", \"time_signature\": \"time_signature\"})\n",
        "conn.upsertVertexDataFrame(metal, \"Song\", \"id\", attributes={\"id\": \"id\", \"name\": \"Track Name\", \"popularity\": \"Popularity\", \"danceability\": \"danceability\", \"energy\": \"energy\", \"key_id\": \"key\", \"loudness\": \"loudness\", \"mode\": \"mode\", \"speechiness\": \"speechiness\", \"acousticness\": \"acousticness\", \"instrumentalness\": \"instrumentalness\", \"liveness\": \"liveness\", \"valence\": \"valence\", \"tempo\": \"tempo\", \"uri\": \"uri\", \"track_href\": \"track_href\", \"analysis_url\": \"analysis_url\", \"duration_ms\": \"duration_ms\", \"time_signature\": \"time_signature\"})\n",
        "conn.upsertVertexDataFrame(hiphop, \"Song\", \"id\", attributes={\"id\": \"id\", \"name\": \"Track Name\", \"popularity\": \"Popularity\", \"danceability\": \"danceability\", \"energy\": \"energy\", \"key_id\": \"key\", \"loudness\": \"loudness\", \"mode\": \"mode\", \"speechiness\": \"speechiness\", \"acousticness\": \"acousticness\", \"instrumentalness\": \"instrumentalness\", \"liveness\": \"liveness\", \"valence\": \"valence\", \"tempo\": \"tempo\", \"uri\": \"uri\", \"track_href\": \"track_href\", \"analysis_url\": \"analysis_url\", \"duration_ms\": \"duration_ms\", \"time_signature\": \"time_signature\"})\n",
        "conn.upsertVertexDataFrame(pop, \"Song\", \"id\", attributes={\"id\": \"id\", \"name\": \"Track Name\", \"popularity\": \"Popularity\", \"danceability\": \"danceability\", \"energy\": \"energy\", \"key_id\": \"key\", \"loudness\": \"loudness\", \"mode\": \"mode\", \"speechiness\": \"speechiness\", \"acousticness\": \"acousticness\", \"instrumentalness\": \"instrumentalness\", \"liveness\": \"liveness\", \"valence\": \"valence\", \"tempo\": \"tempo\", \"uri\": \"uri\", \"track_href\": \"track_href\", \"analysis_url\": \"analysis_url\", \"duration_ms\": \"duration_ms\", \"time_signature\": \"time_signature\"})\n"
      ],
      "outputs": [
        {
          "output_type": "execute_result",
          "data": {
            "text/plain": [
              "3016"
            ]
          },
          "metadata": {
            "tags": []
          },
          "execution_count": 14
        }
      ],
      "metadata": {
        "id": "HbNnCOxdhvsr",
        "colab": {
          "base_uri": "https://localhost:8080/"
        },
        "outputId": "3b37955a-93c2-4955-a851-d9c24356be9a"
      }
    },
    {
      "cell_type": "code",
      "execution_count": null,
      "source": [
        "conn.upsertEdgeDataFrame(alternative, \"Song\", \"SONG_ARTIST\", \"Artist\", \"id\", \"Artist Name\", attributes={})\n",
        "conn.upsertEdgeDataFrame(indie_alt, \"Song\", \"SONG_ARTIST\", \"Artist\", \"id\", \"Artist Name\", attributes={})\n",
        "conn.upsertEdgeDataFrame(rock, \"Song\", \"SONG_ARTIST\", \"Artist\", \"id\", \"Artist Name\", attributes={})\n",
        "conn.upsertEdgeDataFrame(blues, \"Song\", \"SONG_ARTIST\", \"Artist\", \"id\", \"Artist Name\", attributes={})\n",
        "conn.upsertEdgeDataFrame(metal, \"Song\", \"SONG_ARTIST\", \"Artist\", \"id\", \"Artist Name\", attributes={})\n",
        "conn.upsertEdgeDataFrame(hiphop, \"Song\", \"SONG_ARTIST\", \"Artist\", \"id\", \"Artist Name\", attributes={})\n",
        "conn.upsertEdgeDataFrame(pop, \"Song\", \"SONG_ARTIST\", \"Artist\", \"id\", \"Artist Name\", attributes={})\n",
        "\n",
        "conn.upsertEdgeDataFrame(alternative, \"Song\", \"SONG_PLAYLIST\", \"Playlist\", \"id\", \"Playlist\", attributes={})\n",
        "conn.upsertEdgeDataFrame(indie_alt, \"Song\", \"SONG_PLAYLIST\", \"Playlist\", \"id\", \"Playlist\", attributes={})\n",
        "conn.upsertEdgeDataFrame(rock, \"Song\", \"SONG_PLAYLIST\", \"Playlist\", \"id\", \"Playlist\", attributes={})\n",
        "conn.upsertEdgeDataFrame(blues, \"Song\", \"SONG_PLAYLIST\", \"Playlist\", \"id\", \"Playlist\", attributes={})\n",
        "conn.upsertEdgeDataFrame(metal, \"Song\", \"SONG_PLAYLIST\", \"Playlist\", \"id\", \"Playlist\", attributes={})\n",
        "conn.upsertEdgeDataFrame(hiphop, \"Song\", \"SONG_PLAYLIST\", \"Playlist\", \"id\", \"Playlist\", attributes={})\n",
        "conn.upsertEdgeDataFrame(pop, \"Song\", \"SONG_PLAYLIST\", \"Playlist\", \"id\", \"Playlist\", attributes={})\n",
        "\n",
        "conn.upsertEdgeDataFrame(alternative, \"Song\", \"SONG_GENRE\", \"Genre\", \"id\", \"Genre\", attributes={})\n",
        "conn.upsertEdgeDataFrame(indie_alt, \"Song\", \"SONG_GENRE\", \"Genre\", \"id\", \"Genre\", attributes={})\n",
        "conn.upsertEdgeDataFrame(rock, \"Song\", \"SONG_GENRE\", \"Genre\", \"id\", \"Genre\", attributes={})\n",
        "conn.upsertEdgeDataFrame(blues, \"Song\", \"SONG_GENRE\", \"Genre\", \"id\", \"Genre\", attributes={})\n",
        "conn.upsertEdgeDataFrame(metal, \"Song\", \"SONG_GENRE\", \"Genre\", \"id\", \"Genre\", attributes={})\n",
        "conn.upsertEdgeDataFrame(hiphop, \"Song\", \"SONG_GENRE\", \"Genre\", \"id\", \"Genre\", attributes={})\n",
        "conn.upsertEdgeDataFrame(pop, \"Song\", \"SONG_GENRE\", \"Genre\", \"id\", \"Genre\", attributes={})\n"
      ],
      "outputs": [
        {
          "output_type": "execute_result",
          "data": {
            "text/plain": [
              "3016"
            ]
          },
          "metadata": {
            "tags": []
          },
          "execution_count": 15
        }
      ],
      "metadata": {
        "colab": {
          "base_uri": "https://localhost:8080/"
        },
        "id": "gwoSY8rV-zaI",
        "outputId": "fdfe608c-dad5-47d4-bc2a-85d17c01d074"
      }
    },
    {
      "cell_type": "markdown",
      "source": [
        "## Write Queries"
      ],
      "metadata": {
        "id": "UAVpzkvQU_24"
      }
    },
    {
      "cell_type": "markdown",
      "source": [
        "### Grab Songs, Playlists, Genres, Artists"
      ],
      "metadata": {
        "id": "cJmT4yiD10MN"
      }
    },
    {
      "cell_type": "code",
      "execution_count": null,
      "source": [
        "print(conn.gsql('''\n",
        "USE GRAPH SpotifyGraph \n",
        "\n",
        "DROP QUERY getSongs\n",
        "\n",
        "CREATE QUERY getSongs() FOR GRAPH SpotifyGraph {\n",
        "  Seed = {Song.*};\n",
        "\n",
        "  PRINT Seed; \n",
        "}\n",
        "\n",
        "INSTALL QUERY getSongs\n",
        "'''))"
      ],
      "outputs": [
        {
          "output_type": "stream",
          "name": "stdout",
          "text": [
            "\r[                                                                                     ] 0% (0/1)\n",
            "\r[                                                                                     ] 0% (0/1)\n",
            "\r[======                                                                               ] 7% (0/1)\n",
            "\r[============                                                                         ] 14% (0/1)\n",
            "\r[==================                                                                   ] 21% (0/1)\n",
            "\r[=========================                                                            ] 29% (0/1)\n",
            "\r[===============================                                                      ] 36% (0/1)\n",
            "\r[=====================================                                                ] 43% (0/1)\n",
            "\r[============================================                                         ] 51% (0/1)\n",
            "\r[==================================================                                   ] 58% (0/1)\n",
            "\r[========================================================                             ] 65% (0/1)\n",
            "\r[===============================================================                      ] 73% (0/1)\n",
            "\r[====================================================================                 ] 80% (0/1)\n",
            "\r[==========================================================================           ] 87% (0/1)\n",
            "\r[=================================================================================    ] 95% (0/1)\n",
            "\r[=====================================================================================] 100% (1/1)\n",
            "\n",
            "Using graph 'SpotifyGraph'\n",
            "Query getSongs could not be found.\n",
            "The query getSongs has been added!\n",
            "Start installing queries, about 1 minute ...\n",
            "getSongs query: curl -X GET 'https://127.0.0.1:9000/query/SpotifyGraph/getSongs'. Add -H \"Authorization: Bearer TOKEN\" if authentication is enabled.\n",
            "\n"
          ]
        }
      ],
      "metadata": {
        "colab": {
          "base_uri": "https://localhost:8080/"
        },
        "id": "6avuKrXHqHHF",
        "outputId": "13924014-8a6d-4a17-ffae-192d42a5c987"
      }
    },
    {
      "cell_type": "code",
      "execution_count": null,
      "source": [
        "print(conn.gsql('''\n",
        "USE GRAPH SpotifyGraph \n",
        "\n",
        "DROP QUERY getArtists\n",
        "\n",
        "CREATE QUERY getArtists(STRING artist) FOR GRAPH SpotifyGraph {\n",
        "  Seed = {Artist.*};\n",
        "\n",
        "  PRINT Seed; \n",
        "}\n",
        "\n",
        "INSTALL QUERY getArtists\n",
        "'''))"
      ],
      "outputs": [
        {
          "output_type": "stream",
          "name": "stdout",
          "text": [
            "\r[                                                                                     ] 0% (0/1)\n",
            "\r[                                                                                     ] 0% (0/1)\n",
            "\r[========================================                                             ] 47% (0/1)\n",
            "\r[=================================================================================    ] 95% (0/1)\n",
            "\r[=====================================================================================] 100% (1/1)\n",
            "\n",
            "Using graph 'SpotifyGraph'\n",
            "Query getArtists could not be found.\n",
            "The query getArtists has been added!\n",
            "Start installing queries, about 1 minute ...\n",
            "getArtists query: curl -X GET 'https://127.0.0.1:9000/query/SpotifyGraph/getArtists?artist=VALUE'. Add -H \"Authorization: Bearer TOKEN\" if authentication is enabled.\n",
            "\n"
          ]
        }
      ],
      "metadata": {
        "colab": {
          "base_uri": "https://localhost:8080/"
        },
        "id": "O4WwFXfhfAln",
        "outputId": "46abb390-00ea-4062-edd8-29cc0a678aa7"
      }
    },
    {
      "cell_type": "code",
      "execution_count": null,
      "source": [
        "print(conn.gsql('''\n",
        "USE GRAPH SpotifyGraph \n",
        "\n",
        "DROP QUERY getPlaylists\n",
        "\n",
        "CREATE QUERY getPlaylists(STRING artist) FOR GRAPH SpotifyGraph {\n",
        "  Seed = {Playlist.*};\n",
        "\n",
        "  PRINT Seed; \n",
        "}\n",
        "\n",
        "INSTALL QUERY getPlaylists\n",
        "'''))"
      ],
      "outputs": [
        {
          "output_type": "stream",
          "name": "stdout",
          "text": [
            "\r[                                                                                     ] 0% (0/1)\n",
            "\r[                                                                                     ] 0% (0/1)\n",
            "\r[========================================                                             ] 47% (0/1)\n",
            "\r[=================================================================================    ] 95% (0/1)\n",
            "\r[=====================================================================================] 100% (1/1)\n",
            "\n",
            "Using graph 'SpotifyGraph'\n",
            "Query getPlaylists could not be found.\n",
            "The query getPlaylists has been added!\n",
            "Start installing queries, about 1 minute ...\n",
            "getPlaylists query: curl -X GET 'https://127.0.0.1:9000/query/SpotifyGraph/getPlaylists?artist=VALUE'. Add -H \"Authorization: Bearer TOKEN\" if authentication is enabled.\n",
            "\n"
          ]
        }
      ],
      "metadata": {
        "colab": {
          "base_uri": "https://localhost:8080/"
        },
        "id": "mEqRRVekB2DY",
        "outputId": "1a12f405-3f13-4185-b0db-94c849fa6ee3"
      }
    },
    {
      "cell_type": "code",
      "execution_count": null,
      "source": [
        "print(conn.gsql('''\n",
        "USE GRAPH SpotifyGraph \n",
        "\n",
        "DROP QUERY getGenres\n",
        "\n",
        "CREATE QUERY getGenres(STRING genre) FOR GRAPH SpotifyGraph {\n",
        "  Seed = {Genre.*};\n",
        "\n",
        "  PRINT Seed; \n",
        "}\n",
        "\n",
        "INSTALL QUERY getGenres\n",
        "'''))"
      ],
      "outputs": [
        {
          "output_type": "stream",
          "name": "stdout",
          "text": [
            "\r[                                                                                     ] 0% (0/1)\n",
            "\r[                                                                                     ] 0% (0/1)\n",
            "\r[========================================                                             ] 47% (0/1)\n",
            "\r[=================================================================================    ] 95% (0/1)\n",
            "\r[=====================================================================================] 100% (1/1)\n",
            "\n",
            "Using graph 'SpotifyGraph'\n",
            "Query getGenres could not be found.\n",
            "The query getGenres has been added!\n",
            "Start installing queries, about 1 minute ...\n",
            "getGenres query: curl -X GET 'https://127.0.0.1:9000/query/SpotifyGraph/getGenres?genre=VALUE'. Add -H \"Authorization: Bearer TOKEN\" if authentication is enabled.\n",
            "\n"
          ]
        }
      ],
      "metadata": {
        "id": "L2hsfabaEQhA",
        "colab": {
          "base_uri": "https://localhost:8080/"
        },
        "outputId": "226f2d5b-09b0-4ca2-9d79-48d6eb391891"
      }
    },
    {
      "cell_type": "markdown",
      "source": [
        "### Get Songs by Vertex Type"
      ],
      "metadata": {
        "id": "-caN4k1h16wm"
      }
    },
    {
      "cell_type": "code",
      "execution_count": null,
      "source": [
        "print(conn.gsql('''\n",
        "USE GRAPH SpotifyGraph \n",
        "\n",
        "DROP QUERY getSongsByArtist\n",
        "\n",
        "CREATE QUERY getSongsByArtist(STRING artist) FOR GRAPH SpotifyGraph {\n",
        "  TYPEDEF TUPLE <artist STRING, id STRING, name STRING, popularity INT, danceability DOUBLE, energy_level DOUBLE, energy DOUBLE, key_id INT, loudness DOUBLE, mode INT, speechiness DOUBLE, acousticness DOUBLE, instrumentalness DOUBLE, liveness DOUBLE, valence DOUBLE, tempo DOUBLE, uri STRING, track_href STRING, analysis_url STRING, duration_ms INT, time_signature INT> SONG_INFO;\n",
        "  ListAccum<SONG_INFO> @@songs;\n",
        "  \n",
        "  Seed = {Artist.*};\n",
        "\n",
        "  Res = SELECT s FROM Seed:a - (SONG_ARTIST:e) - Song:s\n",
        "        WHERE a.name == artist\n",
        "        ACCUM @@songs+=SONG_INFO(a.name, s.id, s.name, s.popularity, s.danceability, s.energy_level, s.energy, s.key_id, s.loudness, s.mode, s.speechiness, s.acousticness, s.instrumentalness, s.liveness, s.valence, s.tempo, s.uri, s.track_href, s.analysis_url, s.duration_ms, s.time_signature);\n",
        "\n",
        "  PRINT @@songs; \n",
        "}\n",
        "\n",
        "INSTALL QUERY getSongsByArtist\n",
        "'''))"
      ],
      "outputs": [
        {
          "output_type": "stream",
          "name": "stdout",
          "text": [
            "\r[                                                                                     ] 0% (0/1)\n",
            "\r[                                                                                     ] 0% (0/1)\n",
            "\r[========================================                                             ] 47% (0/1)\n",
            "\r[=================================================================================    ] 95% (0/1)\n",
            "\r[=====================================================================================] 100% (1/1)\n",
            "\n",
            "Using graph 'SpotifyGraph'\n",
            "Query getSongsByArtist could not be found.\n",
            "The query getSongsByArtist has been added!\n",
            "Start installing queries, about 1 minute ...\n",
            "getSongsByArtist query: curl -X GET 'https://127.0.0.1:9000/query/SpotifyGraph/getSongsByArtist?artist=VALUE'. Add -H \"Authorization: Bearer TOKEN\" if authentication is enabled.\n",
            "\n"
          ]
        }
      ],
      "metadata": {
        "id": "41L1G0q1rcJW",
        "colab": {
          "base_uri": "https://localhost:8080/"
        },
        "outputId": "feba97fd-ef36-468a-a451-ad4de5fe6814"
      }
    },
    {
      "cell_type": "code",
      "execution_count": null,
      "source": [
        "print(conn.gsql('''\n",
        "USE GRAPH SpotifyGraph \n",
        "\n",
        "DROP QUERY getSongsByPlaylist\n",
        "\n",
        "CREATE QUERY getSongsByPlaylist(STRING playlist) FOR GRAPH SpotifyGraph {\n",
        "  TYPEDEF TUPLE <playlist STRING, id STRING, name STRING, popularity INT, danceability DOUBLE, energy_level DOUBLE, energy DOUBLE, key_id INT, loudness DOUBLE, mode INT, speechiness DOUBLE, acousticness DOUBLE, instrumentalness DOUBLE, liveness DOUBLE, valence DOUBLE, tempo DOUBLE, uri STRING, track_href STRING, analysis_url STRING, duration_ms INT, time_signature INT> SONG_INFO;\n",
        "  ListAccum<SONG_INFO> @@songs;\n",
        "  \n",
        "  Seed = {Playlist.*};\n",
        "\n",
        "  Res = SELECT s FROM Seed:a - (SONG_PLAYLIST:e) - Song:s\n",
        "        WHERE a.name == playlist\n",
        "        ACCUM @@songs+=SONG_INFO(a.name, s.id, s.name, s.popularity, s.danceability, s.energy_level, s.energy, s.key_id, s.loudness, s.mode, s.speechiness, s.acousticness, s.instrumentalness, s.liveness, s.valence, s.tempo, s.uri, s.track_href, s.analysis_url, s.duration_ms, s.time_signature);\n",
        "\n",
        "  PRINT @@songs; \n",
        "}\n",
        "\n",
        "INSTALL QUERY getSongsByPlaylist\n",
        "'''))"
      ],
      "outputs": [
        {
          "output_type": "stream",
          "name": "stdout",
          "text": [
            "\r[                                                                                     ] 0% (0/1)\n",
            "\r[                                                                                     ] 0% (0/1)\n",
            "\r[========================================                                             ] 47% (0/1)\n",
            "\r[=================================================================================    ] 95% (0/1)\n",
            "\r[=====================================================================================] 100% (1/1)\n",
            "\n",
            "Using graph 'SpotifyGraph'\n",
            "Query getSongsByPlaylist could not be found.\n",
            "The query getSongsByPlaylist has been added!\n",
            "Start installing queries, about 1 minute ...\n",
            "getSongsByPlaylist query: curl -X GET 'https://127.0.0.1:9000/query/SpotifyGraph/getSongsByPlaylist?playlist=VALUE'. Add -H \"Authorization: Bearer TOKEN\" if authentication is enabled.\n",
            "\n"
          ]
        }
      ],
      "metadata": {
        "colab": {
          "base_uri": "https://localhost:8080/"
        },
        "id": "csqjYSVF4oFY",
        "outputId": "aa0dc951-cfab-42f9-f78d-21460f00ce7c"
      }
    },
    {
      "cell_type": "code",
      "execution_count": null,
      "source": [
        "print(conn.gsql('''\n",
        "USE GRAPH SpotifyGraph \n",
        "\n",
        "DROP QUERY getSongsByGenre\n",
        "\n",
        "CREATE QUERY getSongsByGenre(STRING genre) FOR GRAPH SpotifyGraph {\n",
        "  TYPEDEF TUPLE <genre STRING, id STRING, name STRING, popularity INT, danceability DOUBLE, energy_level DOUBLE, energy DOUBLE, key_id INT, loudness DOUBLE, mode INT, speechiness DOUBLE, acousticness DOUBLE, instrumentalness DOUBLE, liveness DOUBLE, valence DOUBLE, tempo DOUBLE, uri STRING, track_href STRING, analysis_url STRING, duration_ms INT, time_signature INT> SONG_INFO;\n",
        "  ListAccum<SONG_INFO> @@songs;\n",
        "  \n",
        "  Seed = {Genre.*};\n",
        "\n",
        "  Res = SELECT s FROM Seed:a - (SONG_GENRE:e) - Song:s\n",
        "        WHERE a.name == genre\n",
        "        ACCUM @@songs+=SONG_INFO(a.name, s.id, s.name, s.popularity, s.danceability, s.energy_level, s.energy, s.key_id, s.loudness, s.mode, s.speechiness, s.acousticness, s.instrumentalness, s.liveness, s.valence, s.tempo, s.uri, s.track_href, s.analysis_url, s.duration_ms, s.time_signature);\n",
        "\n",
        "  PRINT @@songs; \n",
        "}\n",
        "\n",
        "INSTALL QUERY getSongsByGenre\n",
        "'''))"
      ],
      "outputs": [
        {
          "output_type": "stream",
          "name": "stdout",
          "text": [
            "\r[                                                                                     ] 0% (0/1)\n",
            "\r[                                                                                     ] 0% (0/1)\n",
            "\r[========================================                                             ] 47% (0/1)\n",
            "\r[=================================================================================    ] 95% (0/1)\n",
            "\r[=====================================================================================] 100% (1/1)\n",
            "\n",
            "Using graph 'SpotifyGraph'\n",
            "Query getSongsByGenre could not be found.\n",
            "The query getSongsByGenre has been added!\n",
            "Start installing queries, about 1 minute ...\n",
            "getSongsByGenre query: curl -X GET 'https://127.0.0.1:9000/query/SpotifyGraph/getSongsByGenre?genre=VALUE'. Add -H \"Authorization: Bearer TOKEN\" if authentication is enabled.\n",
            "\n"
          ]
        }
      ],
      "metadata": {
        "colab": {
          "base_uri": "https://localhost:8080/"
        },
        "id": "wkAuES_SC2jv",
        "outputId": "d3df8fe9-fb48-4d0a-b905-bd0a82fe6fa8"
      }
    },
    {
      "cell_type": "markdown",
      "source": [
        "### Misc."
      ],
      "metadata": {
        "id": "pRxf_ZUB2Oex"
      }
    },
    {
      "cell_type": "code",
      "execution_count": null,
      "source": [
        "print(conn.gsql('''\n",
        "USE GRAPH SpotifyGraph \n",
        "\n",
        "DROP QUERY getVerticesFromSongs\n",
        "\n",
        "CREATE QUERY getVerticesFromSongs(STRING song_name) FOR GRAPH SpotifyGraph { \n",
        "  TYPEDEF TUPLE <STRING name, STRING vertex_type> VALUE;\n",
        "  \n",
        "  ListAccum<VALUE> @@connectedVals;\n",
        "  \n",
        "  Seed = {Song.*};\n",
        "  \n",
        "  Res = SELECT tgt FROM Seed:s - (SONG_GENRE:e) - Genre:tgt\n",
        "        WHERE s.name == song_name\n",
        "        ACCUM @@connectedVals+= VALUE(tgt.name, \"genre\");\n",
        "  \n",
        "  Res1 = SELECT tgt FROM Seed:s - (SONG_ARTIST:e) - Artist:tgt\n",
        "        WHERE s.name == song_name\n",
        "        ACCUM @@connectedVals+= VALUE(tgt.name, \"artist\");\n",
        "  \n",
        "  Res2 = SELECT tgt FROM Seed:s - (SONG_PLAYLIST:e) - Playlist:tgt\n",
        "        WHERE s.name == song_name\n",
        "        ACCUM @@connectedVals+= VALUE(tgt.name, \"playlist\");\n",
        "  \n",
        "  PRINT @@connectedVals AS connectedVals;\n",
        "}\n",
        "\n",
        "INSTALL QUERY getVerticesFromSongs\n",
        "'''))"
      ],
      "outputs": [
        {
          "output_type": "stream",
          "name": "stdout",
          "text": [
            "\r[                                                                                     ] 0% (0/1)\n",
            "\r[                                                                                     ] 0% (0/1)\n",
            "\r[========================================                                             ] 47% (0/1)\n",
            "\r[=================================================================================    ] 95% (0/1)\n",
            "\r[=====================================================================================] 100% (1/1)\n",
            "\n",
            "Using graph 'SpotifyGraph'\n",
            "Query getVerticesFromSongs could not be found.\n",
            "The query getVerticesFromSongs has been added!\n",
            "Start installing queries, about 1 minute ...\n",
            "getVerticesFromSongs query: curl -X GET 'https://127.0.0.1:9000/query/SpotifyGraph/getVerticesFromSongs?song_name=VALUE'. Add -H \"Authorization: Bearer TOKEN\" if authentication is enabled.\n",
            "\n"
          ]
        }
      ],
      "metadata": {
        "colab": {
          "base_uri": "https://localhost:8080/"
        },
        "id": "nYB4-vf9CaN4",
        "outputId": "58452ad5-5333-456d-e8e1-6c9e766cd9e6"
      }
    },
    {
      "cell_type": "markdown",
      "source": [
        "## Congrats!"
      ],
      "metadata": {
        "id": "ux9Id6fDj2dO"
      }
    },
    {
      "cell_type": "markdown",
      "source": [
        "Congratulations! You have now loaded data from Kaggle into your TigerGraph graph! You're now ready to visualise it using some popular frameworks!\n",
        "\n",
        "\n",
        "Want to learn more? Connect with other developers? \n",
        "* Join the [TigerGraph Discord](https://discord.gg/gRHWBZNpxW)! \n",
        "* Check out the [TigerGraph Developers' Portal](https://developers.tigergraph.com/) for more cool TigerGraph tools!\n",
        "* Finally, create your own project like this and submit it to the [Community Contribution Program](https://www.tigergraph.com/community-contribution/)!\n",
        "\n"
      ],
      "metadata": {
        "id": "o7whb9_sj5sa"
      }
    }
  ]
}