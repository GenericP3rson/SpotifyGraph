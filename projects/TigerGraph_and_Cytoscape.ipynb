{
  "nbformat": 4,
  "nbformat_minor": 0,
  "metadata": {
    "colab": {
      "name": "TigerGraph and Cytoscape",
      "provenance": [],
      "collapsed_sections": []
    },
    "kernelspec": {
      "name": "python3",
      "display_name": "Python 3"
    },
    "language_info": {
      "name": "python"
    }
  },
  "cells": [
    {
      "cell_type": "markdown",
      "metadata": {
        "id": "ueOxoo2wjCTo"
      },
      "source": [
        "# TigerGraph and Cytoscape"
      ]
    },
    {
      "cell_type": "markdown",
      "metadata": {
        "id": "U4WA5gxw37V7"
      },
      "source": [
        "## Set up your TigerGraph Graph"
      ]
    },
    {
      "cell_type": "markdown",
      "metadata": {
        "id": "bByrnyj8IW0z"
      },
      "source": [
        "### Start Your TigerGraph Solution"
      ]
    },
    {
      "cell_type": "markdown",
      "metadata": {
        "id": "tIjZi2xAIZgB"
      },
      "source": [
        "Go to https://tgcloud.io/ and if your solution says \"Stop\" next to it, press the Application Operations and select \"Start\" from the dropdown."
      ]
    },
    {
      "cell_type": "markdown",
      "metadata": {
        "id": "9w0WWeqH5WQH"
      },
      "source": [
        "### Connect to TigerGraph"
      ]
    },
    {
      "cell_type": "code",
      "metadata": {
        "colab": {
          "base_uri": "https://localhost:8080/"
        },
        "id": "UeLxK_VM4Jgw",
        "outputId": "d6bfb34b-349a-4619-f8e9-39eb4dfbdc85"
      },
      "source": [
        "!pip install pyTigerGraph"
      ],
      "execution_count": null,
      "outputs": [
        {
          "output_type": "stream",
          "text": [
            "Requirement already satisfied: pyTigerGraph in /usr/local/lib/python3.7/dist-packages (0.0.9.6.9)\n",
            "Requirement already satisfied: pandas in /usr/local/lib/python3.7/dist-packages (from pyTigerGraph) (1.1.5)\n",
            "Requirement already satisfied: requests in /usr/local/lib/python3.7/dist-packages (from pyTigerGraph) (2.23.0)\n",
            "Requirement already satisfied: pyTigerDriver==1.0.13 in /usr/local/lib/python3.7/dist-packages (from pyTigerGraph) (1.0.13)\n",
            "Requirement already satisfied: validators in /usr/local/lib/python3.7/dist-packages (from pyTigerGraph) (0.18.2)\n",
            "Requirement already satisfied: pytz>=2017.2 in /usr/local/lib/python3.7/dist-packages (from pandas->pyTigerGraph) (2018.9)\n",
            "Requirement already satisfied: numpy>=1.15.4 in /usr/local/lib/python3.7/dist-packages (from pandas->pyTigerGraph) (1.19.5)\n",
            "Requirement already satisfied: python-dateutil>=2.7.3 in /usr/local/lib/python3.7/dist-packages (from pandas->pyTigerGraph) (2.8.1)\n",
            "Requirement already satisfied: six>=1.5 in /usr/local/lib/python3.7/dist-packages (from python-dateutil>=2.7.3->pandas->pyTigerGraph) (1.15.0)\n",
            "Requirement already satisfied: idna<3,>=2.5 in /usr/local/lib/python3.7/dist-packages (from requests->pyTigerGraph) (2.10)\n",
            "Requirement already satisfied: certifi>=2017.4.17 in /usr/local/lib/python3.7/dist-packages (from requests->pyTigerGraph) (2021.5.30)\n",
            "Requirement already satisfied: chardet<4,>=3.0.2 in /usr/local/lib/python3.7/dist-packages (from requests->pyTigerGraph) (3.0.4)\n",
            "Requirement already satisfied: urllib3!=1.25.0,!=1.25.1,<1.26,>=1.21.1 in /usr/local/lib/python3.7/dist-packages (from requests->pyTigerGraph) (1.24.3)\n",
            "Requirement already satisfied: decorator>=3.4.0 in /usr/local/lib/python3.7/dist-packages (from validators->pyTigerGraph) (4.4.2)\n"
          ],
          "name": "stdout"
        }
      ]
    },
    {
      "cell_type": "code",
      "metadata": {
        "id": "iRh-lmAw4K_Y"
      },
      "source": [
        "import pyTigerGraph as tg \n",
        "\n",
        "conn = tg.TigerGraphConnection(host=\"https://spotifygraph.i.tgcloud.io/\", password=\"tigergraph\", graphname=\"SpotifyGraph\")\n",
        "conn.apiToken = conn.getToken(conn.createSecret())"
      ],
      "execution_count": null,
      "outputs": []
    },
    {
      "cell_type": "code",
      "metadata": {
        "id": "KstPlN7F4pPx"
      },
      "source": [
        "# NOTE: ONLY UNCOMMENT FOR EMERGENCIES!! IT WILL DELETE EVERYTHING FROM YOUR GRAPH!\n",
        "\n",
        "# print(conn.gsql('''DROP ALL'''))"
      ],
      "execution_count": null,
      "outputs": []
    },
    {
      "cell_type": "markdown",
      "metadata": {
        "id": "H8IRadCZi1-W"
      },
      "source": [
        "## TigerGraph and Cytoscape with Plotly Dash"
      ]
    },
    {
      "cell_type": "markdown",
      "metadata": {
        "id": "9cZLg9Sk3bjn"
      },
      "source": [
        "### Import the Libraries"
      ]
    },
    {
      "cell_type": "code",
      "metadata": {
        "id": "NZkGqu_LkSPd",
        "colab": {
          "base_uri": "https://localhost:8080/"
        },
        "outputId": "1fff6ac4-4a88-4f35-9497-d3909aafae5f"
      },
      "source": [
        "!pip install -q jupyter-dash\n",
        "!pip install dash_cytoscape\n",
        "\n",
        "import dash_cytoscape as cyto\n",
        "from jupyter_dash import JupyterDash\n",
        "import dash_core_components as dcc\n",
        "import dash_html_components as html\n",
        "from dash.dependencies import Input, Output\n",
        "import pandas as pd "
      ],
      "execution_count": null,
      "outputs": [
        {
          "output_type": "stream",
          "text": [
            "Requirement already satisfied: dash_cytoscape in /usr/local/lib/python3.7/dist-packages (0.3.0)\n",
            "Requirement already satisfied: dash in /usr/local/lib/python3.7/dist-packages (from dash_cytoscape) (1.21.0)\n",
            "Requirement already satisfied: future in /usr/local/lib/python3.7/dist-packages (from dash->dash_cytoscape) (0.16.0)\n",
            "Requirement already satisfied: plotly in /usr/local/lib/python3.7/dist-packages (from dash->dash_cytoscape) (4.4.1)\n",
            "Requirement already satisfied: dash-core-components==1.17.1 in /usr/local/lib/python3.7/dist-packages (from dash->dash_cytoscape) (1.17.1)\n",
            "Requirement already satisfied: dash-table==4.12.0 in /usr/local/lib/python3.7/dist-packages (from dash->dash_cytoscape) (4.12.0)\n",
            "Requirement already satisfied: dash-html-components==1.1.4 in /usr/local/lib/python3.7/dist-packages (from dash->dash_cytoscape) (1.1.4)\n",
            "Requirement already satisfied: Flask>=1.0.4 in /usr/local/lib/python3.7/dist-packages (from dash->dash_cytoscape) (1.1.4)\n",
            "Requirement already satisfied: flask-compress in /usr/local/lib/python3.7/dist-packages (from dash->dash_cytoscape) (1.10.1)\n",
            "Requirement already satisfied: Werkzeug<2.0,>=0.15 in /usr/local/lib/python3.7/dist-packages (from Flask>=1.0.4->dash->dash_cytoscape) (1.0.1)\n",
            "Requirement already satisfied: itsdangerous<2.0,>=0.24 in /usr/local/lib/python3.7/dist-packages (from Flask>=1.0.4->dash->dash_cytoscape) (1.1.0)\n",
            "Requirement already satisfied: Jinja2<3.0,>=2.10.1 in /usr/local/lib/python3.7/dist-packages (from Flask>=1.0.4->dash->dash_cytoscape) (2.11.3)\n",
            "Requirement already satisfied: click<8.0,>=5.1 in /usr/local/lib/python3.7/dist-packages (from Flask>=1.0.4->dash->dash_cytoscape) (7.1.2)\n",
            "Requirement already satisfied: MarkupSafe>=0.23 in /usr/local/lib/python3.7/dist-packages (from Jinja2<3.0,>=2.10.1->Flask>=1.0.4->dash->dash_cytoscape) (2.0.1)\n",
            "Requirement already satisfied: brotli in /usr/local/lib/python3.7/dist-packages (from flask-compress->dash->dash_cytoscape) (1.0.9)\n",
            "Requirement already satisfied: six in /usr/local/lib/python3.7/dist-packages (from plotly->dash->dash_cytoscape) (1.15.0)\n",
            "Requirement already satisfied: retrying>=1.3.3 in /usr/local/lib/python3.7/dist-packages (from plotly->dash->dash_cytoscape) (1.3.3)\n"
          ],
          "name": "stdout"
        }
      ]
    },
    {
      "cell_type": "markdown",
      "metadata": {
        "id": "tmPZvA_F3oyx"
      },
      "source": [
        "### Create the App"
      ]
    },
    {
      "cell_type": "code",
      "metadata": {
        "id": "Y1YP7oraDhEv"
      },
      "source": [
        "app = JupyterDash(__name__)\n",
        "\n",
        "app.layout = html.Div([\n",
        "    html.H1(\"CytoTG + Spotify\"),\n",
        "    html.H2(\"Style\"),\n",
        "    dcc.Dropdown(\n",
        "        id = \"layout\",\n",
        "        options=[\n",
        "            {\"value\": \"preset\", \"label\": \"preset\"},\n",
        "            {\"value\": \"random\", \"label\": \"random\"},\n",
        "            {\"value\": \"grid\", \"label\": \"grid\"},\n",
        "            {\"value\": \"circle\", \"label\": \"circle\"},\n",
        "            {\"value\": \"concentric\", \"label\": \"concentric\"},\n",
        "            {\"value\": \"breadthfirst\", \"label\": \"breadthfirst\"},\n",
        "            {\"value\": \"cose\", \"label\": \"cose\"},\n",
        "        ],\n",
        "        value=\"circle\",\n",
        "        clearable=False\n",
        "    ),\n",
        "    html.H2(\"Data\"),\n",
        "    dcc.Dropdown(\n",
        "        id = \"opt\",\n",
        "        options=[\n",
        "            {'value': \"Artist\", 'label': \"Artist\"},\n",
        "            {'value': \"Playlist\", 'label': \"Playlist\"},\n",
        "            {'value': 'Genre', 'label': 'Genre'},\n",
        "            {'value': 'Song', 'label': 'Song'}\n",
        "        ],\n",
        "        value=\"Playlist\",\n",
        "        clearable=False\n",
        "    ),\n",
        "    dcc.Dropdown(\n",
        "        id = \"artist\",\n",
        "        value=\"Altar\",\n",
        "        clearable=False\n",
        "    ),\n",
        "    cyto.Cytoscape(\n",
        "        id = \"cyto\",\n",
        "        layout={\n",
        "            'name': 'circle'\n",
        "        },\n",
        "        style={'width': '100%', 'height': '400px'}\n",
        "    ),\n",
        "    cyto.Cytoscape(\n",
        "        id = \"scape\",\n",
        "        layout={\n",
        "            'name': 'circle'\n",
        "        },\n",
        "        style={'width': '100%', 'height': '400px'}\n",
        "    ),\n",
        "])    "
      ],
      "execution_count": null,
      "outputs": []
    },
    {
      "cell_type": "markdown",
      "metadata": {
        "id": "UcnTqC7n3wRM"
      },
      "source": [
        "### Layout Callbacks"
      ]
    },
    {
      "cell_type": "code",
      "metadata": {
        "id": "kDvcRLyZ3yvr"
      },
      "source": [
        "# Updates the first cytoscape graph based on a change in layout\n",
        "\n",
        "@app.callback(\n",
        "    Output('cyto', 'layout'),\n",
        "    Input('layout', 'value')\n",
        ")\n",
        "def update_graph(lay):\n",
        "    return {\"name\": lay}\n",
        "\n",
        "# Updates the second cytoscape graph based on a change in layout\n",
        "\n",
        "@app.callback(\n",
        "    Output('scape', 'layout'),\n",
        "    Input('layout', 'value')\n",
        ")\n",
        "def update_graph(lay):\n",
        "    return {\"name\": lay}"
      ],
      "execution_count": null,
      "outputs": []
    },
    {
      "cell_type": "code",
      "metadata": {
        "id": "4swLMeDo4AOr"
      },
      "source": [
        "# Updates the dropdowns\n",
        "\n",
        "@app.callback(\n",
        "    Output('artist', 'options'),\n",
        "    Input('opt', 'value'),\n",
        ")\n",
        "def update_graph(opt):\n",
        "    if opt == \"Artist\":\n",
        "        artists = conn.runInstalledQuery(\"getArtists\")\n",
        "        artists = [{\"label\": i[\"attributes\"][\"name\"], \"value\": i[\"attributes\"][\"name\"]} for i in artists[0][\"Seed\"]]\n",
        "        return artists\n",
        "    elif opt == \"Playlist\":\n",
        "        playlists = conn.runInstalledQuery(\"getPlaylists\")\n",
        "        playlists = [{\"label\": i[\"attributes\"][\"name\"], \"value\": i[\"attributes\"][\"name\"]} for i in playlists[0][\"Seed\"]]\n",
        "        return playlists\n",
        "    elif opt == \"Genre\":\n",
        "        genres = conn.runInstalledQuery(\"getGenres\")\n",
        "        genres = [{\"label\": i[\"attributes\"][\"name\"], \"value\": i[\"attributes\"][\"name\"]} for i in genres[0][\"Seed\"]]\n",
        "        return genres\n",
        "    elif opt == \"Song\":\n",
        "        songs = conn.runInstalledQuery(\"getSongs\")\n",
        "        songs = [{\"label\": i[\"attributes\"][\"name\"], \"value\": i[\"attributes\"][\"name\"]} for i in songs[0][\"Seed\"]]\n",
        "        return songs"
      ],
      "execution_count": null,
      "outputs": []
    },
    {
      "cell_type": "markdown",
      "metadata": {
        "id": "1TfJJkpZ4IHq"
      },
      "source": [
        "### Cytoscape Callbacks"
      ]
    },
    {
      "cell_type": "code",
      "metadata": {
        "id": "o2xQvwX24KO-"
      },
      "source": [
        "# Updates the first cytoscape graph elements\n",
        "\n",
        "@app.callback(\n",
        "    Output('cyto', 'elements'),\n",
        "    Input('artist', 'value'),\n",
        "    Input('opt', 'value'),\n",
        ")\n",
        "def update_graph(art, opt):\n",
        "    if opt == \"Artist\":\n",
        "        res = conn.runInstalledQuery(\"getSongsByArtist\", {\"artist\": art})[0][\"@@songs\"] # Runs query\n",
        "        cyto_data = [{'data': {'id': art, 'label': art, 'classes': 'artist'}}] # Adds artist vertex\n",
        "        for i in res:\n",
        "            cyto_data.append({\"data\": {'id': i['name'], 'label': i['name'], 'classes': 'song'}}) # Adds songs vertices\n",
        "            cyto_data.append({'data': {'source': art, 'target': i['name']}}) # Adds edges\n",
        "        return cyto_data\n",
        "    elif opt == \"Playlist\": \n",
        "        res = conn.runInstalledQuery(\"getSongsByPlaylist\", {\"playlist\": art})[0][\"@@songs\"] # Runs query\n",
        "        cyto_data = [{'data': {'id': art, 'label': art, 'classes': 'playlist'}}] # Adds artist vertex\n",
        "        for i in res:\n",
        "            cyto_data.append({\"data\": {'id': i['name'], 'label': i['name'], 'classes': 'song'}}) # Adds songs vertices\n",
        "            cyto_data.append({'data': {'source': art, 'target': i['name']}}) # Adds edges\n",
        "        return cyto_data\n",
        "    elif opt == \"Genre\": \n",
        "        res = conn.runInstalledQuery(\"getSongsByGenre\", {\"genre\": art})[0][\"@@songs\"] # Runs query\n",
        "        cyto_data = [{'data': {'id': art, 'label': art, 'classes': 'genre'}}] # Adds genre vertex\n",
        "        for i in res:\n",
        "            cyto_data.append({\"data\": {'id': i['name'], 'label': i['name'], 'classes': 'song'}}) # Adds songs vertices\n",
        "            cyto_data.append({'data': {'source': art, 'target': i['name']}}) # Adds edges\n",
        "        return cyto_data\n",
        "    elif opt == \"Song\": \n",
        "        res = conn.runInstalledQuery(\"getVerticesFromSongs\", {\"song_name\": art})[0][\"connectedVals\"] # Runs query\n",
        "        cyto_data = [{'data': {'id': art, 'label': art, 'classes': 'song'}}] # Adds song vertex\n",
        "        for i in res:\n",
        "            if i['vertex_type'] == 'genre':\n",
        "                cyto_data.append({\"data\": {'id': i['name'], 'label': i['name'], 'classes': 'genre'}}) # Adds genres vertices\n",
        "            if i['vertex_type'] == 'artist':\n",
        "                cyto_data.append({\"data\": {'id': i['name'], 'label': i['name'], 'classes': 'artist'}}) # Adds artist vertices\n",
        "            if i['vertex_type'] == 'playlist':\n",
        "                cyto_data.append({\"data\": {'id': i['name'], 'label': i['name'], 'classes': 'playlist'}}) # Adds playlist vertices\n",
        "            cyto_data.append({'data': {'source': art, 'target': i['name']}}) # Adds edges\n",
        "        return cyto_data\n",
        "    else:\n",
        "        return []\n"
      ],
      "execution_count": null,
      "outputs": []
    },
    {
      "cell_type": "code",
      "metadata": {
        "id": "dE523Eb04hXg"
      },
      "source": [
        "# Updates the second cytoscape graph elements\n",
        "\n",
        "\n",
        "@app.callback(\n",
        "    Output('scape', 'elements'),\n",
        "    Input('cyto', 'tapNodeData'),\n",
        ")\n",
        "def update_graph(main_data):\n",
        "    if (main_data):\n",
        "        art = main_data[\"id\"]\n",
        "        opt = main_data[\"classes\"]\n",
        "        if opt == \"artis\":\n",
        "            res = conn.runInstalledQuery(\"getSongsByArtist\", {\"artist\": art})[0][\"@@songs\"] # Runs query\n",
        "            cyto_data = [{'data': {'id': art, 'label': art}}] # Adds artist vertex\n",
        "            for i in res:\n",
        "                cyto_data.append({\"data\": {'id': i['name'], 'label': i['name'], 'classes': 'song'}}) # Adds songs vertices\n",
        "                cyto_data.append({'data': {'source': art, 'target': i['name']}}) # Adds songs edges\n",
        "            return cyto_data\n",
        "        elif opt == \"playlist\": \n",
        "            res = conn.runInstalledQuery(\"getSongsByPlaylist\", {\"playlist\": art})[0][\"@@songs\"] # Runs query\n",
        "            cyto_data = [{'data': {'id': art, 'label': art}}] # Adds artist vertex\n",
        "            for i in res:\n",
        "                cyto_data.append({\"data\": {'id': i['name'], 'label': i['name'], 'classes': 'song'}}) # Adds songs vertices\n",
        "                cyto_data.append({'data': {'source': art, 'target': i['name']}}) # Adds songs edges\n",
        "            return cyto_data\n",
        "        elif opt == \"genre\": \n",
        "          res = conn.runInstalledQuery(\"getSongsByGenre\", {\"genre\": art})[0][\"@@songs\"] # Runs query\n",
        "          cyto_data = [{'data': {'id': art, 'label': art, 'classes': 'genre'}}] # Adds genre vertex\n",
        "          for i in res:\n",
        "              cyto_data.append({\"data\": {'id': i['name'], 'label': i['name'], 'classes': 'song'}}) # Adds songs vertices\n",
        "              cyto_data.append({'data': {'source': art, 'target': i['name']}}) # Adds songs edges\n",
        "          return cyto_data\n",
        "        elif opt == \"song\": \n",
        "            res = conn.runInstalledQuery(\"getVerticesFromSongs\", {\"song_name\": art})[0][\"connectedVals\"] # Runs query\n",
        "            cyto_data = [{'data': {'id': art, 'label': art, 'classes': 'song'}}] # Adds artist vertex\n",
        "            for i in res:\n",
        "                if i['vertex_type'] == 'genre':\n",
        "                    cyto_data.append({\"data\": {'id': i['name'], 'label': i['name'], 'classes': 'genre'}}) # Adds songs vertices\n",
        "                if i['vertex_type'] == 'artist':\n",
        "                    cyto_data.append({\"data\": {'id': i['name'], 'label': i['name'], 'classes': 'artist'}}) # Adds songs vertices\n",
        "                if i['vertex_type'] == 'playlist':\n",
        "                    cyto_data.append({\"data\": {'id': i['name'], 'label': i['name'], 'classes': 'playlist'}}) # Adds songs vertices\n",
        "                cyto_data.append({'data': {'source': art, 'target': i['name']}}) # Adds songs edges\n",
        "            return cyto_data\n",
        "        else: \n",
        "            return []\n",
        "    else:\n",
        "        return []\n"
      ],
      "execution_count": null,
      "outputs": []
    },
    {
      "cell_type": "markdown",
      "metadata": {
        "id": "8QkxifbY4uxY"
      },
      "source": [
        "### Run the App"
      ]
    },
    {
      "cell_type": "code",
      "metadata": {
        "colab": {
          "base_uri": "https://localhost:8080/",
          "height": 51
        },
        "id": "1Dt3w6lu4wSL",
        "outputId": "76c902fd-e720-4f1e-9bba-d9f0ad8d45df"
      },
      "source": [
        "app.run_server(mode='external')"
      ],
      "execution_count": null,
      "outputs": [
        {
          "output_type": "stream",
          "text": [
            "Dash app running on:\n"
          ],
          "name": "stdout"
        },
        {
          "output_type": "display_data",
          "data": {
            "application/javascript": [
              "(async (port, path, text, element) => {\n",
              "    if (!google.colab.kernel.accessAllowed) {\n",
              "      return;\n",
              "    }\n",
              "    element.appendChild(document.createTextNode(''));\n",
              "    const url = await google.colab.kernel.proxyPort(port);\n",
              "    const anchor = document.createElement('a');\n",
              "    anchor.href = new URL(path, url).toString();\n",
              "    anchor.target = '_blank';\n",
              "    anchor.setAttribute('data-href', url + path);\n",
              "    anchor.textContent = text;\n",
              "    element.appendChild(anchor);\n",
              "  })(8050, \"/\", \"http://127.0.0.1:8050/\", window.element)"
            ],
            "text/plain": [
              "<IPython.core.display.Javascript object>"
            ]
          },
          "metadata": {
            "tags": []
          }
        }
      ]
    },
    {
      "cell_type": "markdown",
      "metadata": {
        "id": "ux9Id6fDj2dO"
      },
      "source": [
        "## Congrats!"
      ]
    },
    {
      "cell_type": "markdown",
      "metadata": {
        "id": "o7whb9_sj5sa"
      },
      "source": [
        "Congratulations! You have now visualised the data in your TigerGraph graph database with cytoscape! \n",
        "\n",
        "\n",
        "Want to learn more? Connect with other developers? \n",
        "* Join the [TigerGraph Discord](https://discord.gg/gRHWBZNpxW)! \n",
        "* Check out the [TigerGraph Developers' Portal](https://developers.tigergraph.com/) for more cool TigerGraph tools!\n",
        "* Finally, create your own project like this and submit it to the [Community Contribution Program](https://www.tigergraph.com/community-contribution/)!\n",
        "\n"
      ]
    }
  ]
}